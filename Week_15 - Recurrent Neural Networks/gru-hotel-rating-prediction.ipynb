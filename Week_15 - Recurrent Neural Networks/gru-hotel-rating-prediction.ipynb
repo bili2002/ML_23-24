{
 "cells": [
  {
   "cell_type": "markdown",
   "metadata": {
    "papermill": {
     "duration": 0.017947,
     "end_time": "2020-11-16T22:17:50.790353",
     "exception": false,
     "start_time": "2020-11-16T22:17:50.772406",
     "status": "completed"
    },
    "tags": []
   },
   "source": [
    "# Hotel Rating Prediction  \n",
    "\n",
    "Given *TripAdvisor hotel reviews*, let's try to predict the **rating** associated with a given review.\n",
    "\n",
    "We will use a TensorFlow RNN to make our predictions."
   ]
  },
  {
   "cell_type": "markdown",
   "metadata": {
    "papermill": {
     "duration": 0.015187,
     "end_time": "2020-11-16T22:17:50.821953",
     "exception": false,
     "start_time": "2020-11-16T22:17:50.806766",
     "status": "completed"
    },
    "tags": []
   },
   "source": [
    "# Getting Started"
   ]
  },
  {
   "cell_type": "code",
   "execution_count": 1,
   "metadata": {
    "_cell_guid": "79c7e3d0-c299-4dcb-8224-4455121ee9b0",
    "_uuid": "d629ff2d2480ee46fbb7e2d37f6b5fab8052498a",
    "execution": {
     "iopub.execute_input": "2020-11-16T22:17:50.860444Z",
     "iopub.status.busy": "2020-11-16T22:17:50.859667Z",
     "iopub.status.idle": "2020-11-16T22:17:57.098542Z",
     "shell.execute_reply": "2020-11-16T22:17:57.097333Z"
    },
    "papermill": {
     "duration": 6.26152,
     "end_time": "2020-11-16T22:17:57.098682",
     "exception": false,
     "start_time": "2020-11-16T22:17:50.837162",
     "status": "completed"
    },
    "tags": []
   },
   "outputs": [],
   "source": [
    "import numpy as np\n",
    "import pandas as pd\n",
    "\n",
    "import re\n",
    "from nltk.corpus import stopwords\n",
    "\n",
    "from tensorflow.keras.preprocessing.text import Tokenizer\n",
    "from tensorflow.keras.preprocessing.sequence import pad_sequences\n",
    "\n",
    "from sklearn.model_selection import train_test_split\n",
    "\n",
    "import tensorflow as tf"
   ]
  },
  {
   "cell_type": "code",
   "execution_count": 3,
   "metadata": {
    "execution": {
     "iopub.execute_input": "2020-11-16T22:17:57.353995Z",
     "iopub.status.busy": "2020-11-16T22:17:57.353290Z",
     "iopub.status.idle": "2020-11-16T22:17:57.362460Z",
     "shell.execute_reply": "2020-11-16T22:17:57.362926Z"
    },
    "papermill": {
     "duration": 0.042571,
     "end_time": "2020-11-16T22:17:57.363048",
     "exception": false,
     "start_time": "2020-11-16T22:17:57.320477",
     "status": "completed"
    },
    "tags": []
   },
   "outputs": [
    {
     "data": {
      "text/html": [
       "<div>\n",
       "<style scoped>\n",
       "    .dataframe tbody tr th:only-of-type {\n",
       "        vertical-align: middle;\n",
       "    }\n",
       "\n",
       "    .dataframe tbody tr th {\n",
       "        vertical-align: top;\n",
       "    }\n",
       "\n",
       "    .dataframe thead th {\n",
       "        text-align: right;\n",
       "    }\n",
       "</style>\n",
       "<table border=\"1\" class=\"dataframe\">\n",
       "  <thead>\n",
       "    <tr style=\"text-align: right;\">\n",
       "      <th></th>\n",
       "      <th>Review</th>\n",
       "      <th>Rating</th>\n",
       "    </tr>\n",
       "  </thead>\n",
       "  <tbody>\n",
       "    <tr>\n",
       "      <th>0</th>\n",
       "      <td>nice hotel expensive parking got good deal sta...</td>\n",
       "      <td>4</td>\n",
       "    </tr>\n",
       "    <tr>\n",
       "      <th>1</th>\n",
       "      <td>ok nothing special charge diamond member hilto...</td>\n",
       "      <td>2</td>\n",
       "    </tr>\n",
       "    <tr>\n",
       "      <th>2</th>\n",
       "      <td>nice rooms not 4* experience hotel monaco seat...</td>\n",
       "      <td>3</td>\n",
       "    </tr>\n",
       "    <tr>\n",
       "      <th>3</th>\n",
       "      <td>unique, great stay, wonderful time hotel monac...</td>\n",
       "      <td>5</td>\n",
       "    </tr>\n",
       "    <tr>\n",
       "      <th>4</th>\n",
       "      <td>great stay great stay, went seahawk game aweso...</td>\n",
       "      <td>5</td>\n",
       "    </tr>\n",
       "    <tr>\n",
       "      <th>...</th>\n",
       "      <td>...</td>\n",
       "      <td>...</td>\n",
       "    </tr>\n",
       "    <tr>\n",
       "      <th>20486</th>\n",
       "      <td>best kept secret 3rd time staying charm, not 5...</td>\n",
       "      <td>5</td>\n",
       "    </tr>\n",
       "    <tr>\n",
       "      <th>20487</th>\n",
       "      <td>great location price view hotel great quick pl...</td>\n",
       "      <td>4</td>\n",
       "    </tr>\n",
       "    <tr>\n",
       "      <th>20488</th>\n",
       "      <td>ok just looks nice modern outside, desk staff ...</td>\n",
       "      <td>2</td>\n",
       "    </tr>\n",
       "    <tr>\n",
       "      <th>20489</th>\n",
       "      <td>hotel theft ruined vacation hotel opened sept ...</td>\n",
       "      <td>1</td>\n",
       "    </tr>\n",
       "    <tr>\n",
       "      <th>20490</th>\n",
       "      <td>people talking, ca n't believe excellent ratin...</td>\n",
       "      <td>2</td>\n",
       "    </tr>\n",
       "  </tbody>\n",
       "</table>\n",
       "<p>20491 rows × 2 columns</p>\n",
       "</div>"
      ],
      "text/plain": [
       "                                                  Review  Rating\n",
       "0      nice hotel expensive parking got good deal sta...       4\n",
       "1      ok nothing special charge diamond member hilto...       2\n",
       "2      nice rooms not 4* experience hotel monaco seat...       3\n",
       "3      unique, great stay, wonderful time hotel monac...       5\n",
       "4      great stay great stay, went seahawk game aweso...       5\n",
       "...                                                  ...     ...\n",
       "20486  best kept secret 3rd time staying charm, not 5...       5\n",
       "20487  great location price view hotel great quick pl...       4\n",
       "20488  ok just looks nice modern outside, desk staff ...       2\n",
       "20489  hotel theft ruined vacation hotel opened sept ...       1\n",
       "20490  people talking, ca n't believe excellent ratin...       2\n",
       "\n",
       "[20491 rows x 2 columns]"
      ]
     },
     "execution_count": 3,
     "metadata": {},
     "output_type": "execute_result"
    }
   ],
   "source": [
    "data = pd.read_csv('tripadvisor_hotel_reviews.csv')\n",
    "data"
   ]
  },
  {
   "cell_type": "code",
   "execution_count": 4,
   "metadata": {
    "execution": {
     "iopub.execute_input": "2020-11-16T22:17:57.410243Z",
     "iopub.status.busy": "2020-11-16T22:17:57.403711Z",
     "iopub.status.idle": "2020-11-16T22:17:57.415820Z",
     "shell.execute_reply": "2020-11-16T22:17:57.415087Z"
    },
    "papermill": {
     "duration": 0.036067,
     "end_time": "2020-11-16T22:17:57.415944",
     "exception": false,
     "start_time": "2020-11-16T22:17:57.379877",
     "status": "completed"
    },
    "tags": []
   },
   "outputs": [
    {
     "name": "stdout",
     "output_type": "stream",
     "text": [
      "<class 'pandas.core.frame.DataFrame'>\n",
      "RangeIndex: 20491 entries, 0 to 20490\n",
      "Data columns (total 2 columns):\n",
      " #   Column  Non-Null Count  Dtype \n",
      "---  ------  --------------  ----- \n",
      " 0   Review  20491 non-null  object\n",
      " 1   Rating  20491 non-null  int64 \n",
      "dtypes: int64(1), object(1)\n",
      "memory usage: 320.3+ KB\n"
     ]
    }
   ],
   "source": [
    "data.info()"
   ]
  },
  {
   "cell_type": "markdown",
   "metadata": {
    "papermill": {
     "duration": 0.01783,
     "end_time": "2020-11-16T22:17:57.452550",
     "exception": false,
     "start_time": "2020-11-16T22:17:57.434720",
     "status": "completed"
    },
    "tags": []
   },
   "source": [
    "# Processing Text"
   ]
  },
  {
   "cell_type": "code",
   "execution_count": 5,
   "metadata": {
    "execution": {
     "iopub.execute_input": "2020-11-16T22:17:57.492187Z",
     "iopub.status.busy": "2020-11-16T22:17:57.491490Z",
     "iopub.status.idle": "2020-11-16T22:17:57.499163Z",
     "shell.execute_reply": "2020-11-16T22:17:57.498669Z"
    },
    "papermill": {
     "duration": 0.029395,
     "end_time": "2020-11-16T22:17:57.499287",
     "exception": false,
     "start_time": "2020-11-16T22:17:57.469892",
     "status": "completed"
    },
    "tags": []
   },
   "outputs": [],
   "source": [
    "stop_words = stopwords.words('english')"
   ]
  },
  {
   "cell_type": "code",
   "execution_count": 6,
   "metadata": {
    "execution": {
     "iopub.execute_input": "2020-11-16T22:17:57.539639Z",
     "iopub.status.busy": "2020-11-16T22:17:57.538795Z",
     "iopub.status.idle": "2020-11-16T22:17:57.541798Z",
     "shell.execute_reply": "2020-11-16T22:17:57.541320Z"
    },
    "papermill": {
     "duration": 0.025717,
     "end_time": "2020-11-16T22:17:57.541916",
     "exception": false,
     "start_time": "2020-11-16T22:17:57.516199",
     "status": "completed"
    },
    "tags": []
   },
   "outputs": [],
   "source": [
    "def process_text(text):\n",
    "    text = re.sub(r'\\d+', ' ', text)\n",
    "    text = text.split()\n",
    "    text = \" \".join([word for word in text if word.lower().strip() not in stop_words])\n",
    "    return text"
   ]
  },
  {
   "cell_type": "code",
   "execution_count": 7,
   "metadata": {
    "execution": {
     "iopub.execute_input": "2020-11-16T22:17:57.581234Z",
     "iopub.status.busy": "2020-11-16T22:17:57.580383Z",
     "iopub.status.idle": "2020-11-16T22:18:04.469761Z",
     "shell.execute_reply": "2020-11-16T22:18:04.468741Z"
    },
    "papermill": {
     "duration": 6.910755,
     "end_time": "2020-11-16T22:18:04.469887",
     "exception": false,
     "start_time": "2020-11-16T22:17:57.559132",
     "status": "completed"
    },
    "tags": []
   },
   "outputs": [],
   "source": [
    "reviews = data['Review'].apply(process_text)"
   ]
  },
  {
   "cell_type": "code",
   "execution_count": 8,
   "metadata": {
    "execution": {
     "iopub.execute_input": "2020-11-16T22:18:04.529670Z",
     "iopub.status.busy": "2020-11-16T22:18:04.519440Z",
     "iopub.status.idle": "2020-11-16T22:18:09.007237Z",
     "shell.execute_reply": "2020-11-16T22:18:09.008458Z"
    },
    "papermill": {
     "duration": 4.520373,
     "end_time": "2020-11-16T22:18:09.008676",
     "exception": false,
     "start_time": "2020-11-16T22:18:04.488303",
     "status": "completed"
    },
    "tags": []
   },
   "outputs": [],
   "source": [
    "num_words = 10000\n",
    "\n",
    "tokenizer = Tokenizer(num_words=num_words)\n",
    "tokenizer.fit_on_texts(reviews)\n",
    "\n",
    "sequences = tokenizer.texts_to_sequences(reviews)"
   ]
  },
  {
   "cell_type": "code",
   "execution_count": 9,
   "metadata": {
    "execution": {
     "iopub.execute_input": "2020-11-16T22:18:09.078245Z",
     "iopub.status.busy": "2020-11-16T22:18:09.077119Z",
     "iopub.status.idle": "2020-11-16T22:18:09.085448Z",
     "shell.execute_reply": "2020-11-16T22:18:09.086577Z"
    },
    "papermill": {
     "duration": 0.051974,
     "end_time": "2020-11-16T22:18:09.086786",
     "exception": false,
     "start_time": "2020-11-16T22:18:09.034812",
     "status": "completed"
    },
    "tags": []
   },
   "outputs": [
    {
     "name": "stdout",
     "output_type": "stream",
     "text": [
      "Max sequence length: 1833\n"
     ]
    }
   ],
   "source": [
    "max_seq_length = np.max(list(map(lambda x: len(x), sequences)))\n",
    "\n",
    "print(\"Max sequence length:\", max_seq_length)"
   ]
  },
  {
   "cell_type": "code",
   "execution_count": 11,
   "metadata": {
    "execution": {
     "iopub.execute_input": "2020-11-16T22:18:09.775814Z",
     "iopub.status.busy": "2020-11-16T22:18:09.775092Z",
     "iopub.status.idle": "2020-11-16T22:18:09.778612Z",
     "shell.execute_reply": "2020-11-16T22:18:09.779069Z"
    },
    "papermill": {
     "duration": 0.029392,
     "end_time": "2020-11-16T22:18:09.779196",
     "exception": false,
     "start_time": "2020-11-16T22:18:09.749804",
     "status": "completed"
    },
    "tags": []
   },
   "outputs": [
    {
     "data": {
      "text/plain": [
       "array([[   8,    1,  174, ...,    0,    0,    0],\n",
       "       [ 139,  136,  262, ...,    0,    0,    0],\n",
       "       [   8,    9,   76, ...,    0,    0,    0],\n",
       "       ...,\n",
       "       [ 139,  733,    8, ...,    0,    0,    0],\n",
       "       [   1, 3785, 2479, ...,    0,    0,    0],\n",
       "       [  27, 1156,  187, ...,    0,    0,    0]], dtype=int32)"
      ]
     },
     "execution_count": 11,
     "metadata": {},
     "output_type": "execute_result"
    }
   ],
   "source": [
    "inputs = pad_sequences(sequences, maxlen=max_seq_length, padding='post')\n",
    "inputs"
   ]
  },
  {
   "cell_type": "markdown",
   "metadata": {
    "papermill": {
     "duration": 0.018415,
     "end_time": "2020-11-16T22:18:09.816423",
     "exception": false,
     "start_time": "2020-11-16T22:18:09.798008",
     "status": "completed"
    },
    "tags": []
   },
   "source": [
    "# Encoding Labels"
   ]
  },
  {
   "cell_type": "code",
   "execution_count": 12,
   "metadata": {
    "execution": {
     "iopub.execute_input": "2020-11-16T22:18:09.858689Z",
     "iopub.status.busy": "2020-11-16T22:18:09.858071Z",
     "iopub.status.idle": "2020-11-16T22:18:09.866711Z",
     "shell.execute_reply": "2020-11-16T22:18:09.866243Z"
    },
    "papermill": {
     "duration": 0.031339,
     "end_time": "2020-11-16T22:18:09.866813",
     "exception": false,
     "start_time": "2020-11-16T22:18:09.835474",
     "status": "completed"
    },
    "tags": []
   },
   "outputs": [
    {
     "data": {
      "text/plain": [
       "5    9054\n",
       "4    6039\n",
       "3    2184\n",
       "2    1793\n",
       "1    1421\n",
       "Name: Rating, dtype: int64"
      ]
     },
     "execution_count": 12,
     "metadata": {},
     "output_type": "execute_result"
    }
   ],
   "source": [
    "data['Rating'].value_counts()"
   ]
  },
  {
   "cell_type": "code",
   "execution_count": 14,
   "metadata": {
    "execution": {
     "iopub.execute_input": "2020-11-16T22:18:09.972749Z",
     "iopub.status.busy": "2020-11-16T22:18:09.972116Z",
     "iopub.status.idle": "2020-11-16T22:18:09.978030Z",
     "shell.execute_reply": "2020-11-16T22:18:09.977508Z"
    },
    "papermill": {
     "duration": 0.028867,
     "end_time": "2020-11-16T22:18:09.978122",
     "exception": false,
     "start_time": "2020-11-16T22:18:09.949255",
     "status": "completed"
    },
    "tags": []
   },
   "outputs": [
    {
     "data": {
      "text/plain": [
       "array([0, 0, 0, ..., 0, 0, 0])"
      ]
     },
     "execution_count": 14,
     "metadata": {},
     "output_type": "execute_result"
    }
   ],
   "source": [
    "labels = np.array(data['Rating'].apply(lambda x: 1 if x == 5 else 0))\n",
    "labels"
   ]
  },
  {
   "cell_type": "markdown",
   "metadata": {
    "papermill": {
     "duration": 0.019782,
     "end_time": "2020-11-16T22:18:10.018191",
     "exception": false,
     "start_time": "2020-11-16T22:18:09.998409",
     "status": "completed"
    },
    "tags": []
   },
   "source": [
    "# Splitting"
   ]
  },
  {
   "cell_type": "code",
   "execution_count": 15,
   "metadata": {
    "execution": {
     "iopub.execute_input": "2020-11-16T22:18:10.066355Z",
     "iopub.status.busy": "2020-11-16T22:18:10.064893Z",
     "iopub.status.idle": "2020-11-16T22:18:10.115985Z",
     "shell.execute_reply": "2020-11-16T22:18:10.116470Z"
    },
    "papermill": {
     "duration": 0.07819,
     "end_time": "2020-11-16T22:18:10.116620",
     "exception": false,
     "start_time": "2020-11-16T22:18:10.038430",
     "status": "completed"
    },
    "tags": []
   },
   "outputs": [],
   "source": [
    "train_inputs, test_inputs, train_labels, test_labels = train_test_split(inputs, labels, train_size=0.7, random_state=100)"
   ]
  },
  {
   "cell_type": "markdown",
   "metadata": {
    "papermill": {
     "duration": 0.019949,
     "end_time": "2020-11-16T22:18:10.157212",
     "exception": false,
     "start_time": "2020-11-16T22:18:10.137263",
     "status": "completed"
    },
    "tags": []
   },
   "source": [
    "# Modeling/Training"
   ]
  },
  {
   "cell_type": "code",
   "execution_count": 16,
   "metadata": {
    "execution": {
     "iopub.execute_input": "2020-11-16T22:18:10.208348Z",
     "iopub.status.busy": "2020-11-16T22:18:10.207631Z",
     "iopub.status.idle": "2020-11-16T22:18:13.948787Z",
     "shell.execute_reply": "2020-11-16T22:18:13.947761Z"
    },
    "papermill": {
     "duration": 3.771466,
     "end_time": "2020-11-16T22:18:13.948923",
     "exception": false,
     "start_time": "2020-11-16T22:18:10.177457",
     "status": "completed"
    },
    "tags": []
   },
   "outputs": [
    {
     "data": {
      "image/png": "[encoded data removed]",
      "text/plain": [
       "<IPython.core.display.Image object>"
      ]
     },
     "execution_count": 16,
     "metadata": {},
     "output_type": "execute_result"
    }
   ],
   "source": [
    "embedding_dim = 128\n",
    "\n",
    "inputs = tf.keras.Input(shape=(max_seq_length,))\n",
    "\n",
    "embedding = tf.keras.layers.Embedding(\n",
    "    input_dim=num_words,\n",
    "    output_dim=embedding_dim,\n",
    "    input_length=max_seq_length\n",
    ")(inputs)\n",
    "\n",
    "gru = tf.keras.layers.Bidirectional(\n",
    "    tf.keras.layers.GRU(128, return_sequences=True)\n",
    ")(embedding)\n",
    "\n",
    "flatten = tf.keras.layers.Flatten()(gru)\n",
    "\n",
    "outputs = tf.keras.layers.Dense(1, activation='sigmoid')(flatten)\n",
    "\n",
    "\n",
    "model = tf.keras.Model(inputs, outputs)\n",
    "\n",
    "tf.keras.utils.plot_model(model)"
   ]
  },
  {
   "cell_type": "code",
   "execution_count": 17,
   "metadata": {
    "execution": {
     "iopub.execute_input": "2020-11-16T22:18:14.003553Z",
     "iopub.status.busy": "2020-11-16T22:18:14.002871Z",
     "iopub.status.idle": "2020-11-16T22:21:30.590377Z",
     "shell.execute_reply": "2020-11-16T22:21:30.589741Z"
    },
    "papermill": {
     "duration": 196.620623,
     "end_time": "2020-11-16T22:21:30.590511",
     "exception": false,
     "start_time": "2020-11-16T22:18:13.969888",
     "status": "completed"
    },
    "tags": []
   },
   "outputs": [
    {
     "name": "stdout",
     "output_type": "stream",
     "text": [
      "Epoch 1/20\n",
      "359/359 [==============================] - 64s 177ms/step - loss: 0.5187 - accuracy: 0.7481 - auc: 0.8237 - val_loss: 0.4282 - val_accuracy: 0.8013 - val_auc: 0.8832\n",
      "Epoch 2/20\n",
      "359/359 [==============================] - 63s 176ms/step - loss: 0.2750 - accuracy: 0.8883 - auc: 0.9535 - val_loss: 0.4926 - val_accuracy: 0.7769 - val_auc: 0.8637\n",
      "Epoch 3/20\n",
      "359/359 [==============================] - 64s 177ms/step - loss: 0.0898 - accuracy: 0.9678 - auc: 0.9950 - val_loss: 0.7139 - val_accuracy: 0.7588 - val_auc: 0.8434\n"
     ]
    }
   ],
   "source": [
    "model.compile(\n",
    "    optimizer='adam',\n",
    "    loss='binary_crossentropy',\n",
    "    metrics=[\n",
    "        'accuracy',\n",
    "        tf.keras.metrics.AUC(name='auc')\n",
    "    ]\n",
    ")\n",
    "\n",
    "history = model.fit(\n",
    "    train_inputs,\n",
    "    train_labels,\n",
    "    validation_split=0.2,\n",
    "    batch_size=32,\n",
    "    epochs=20,\n",
    "    callbacks=[\n",
    "        tf.keras.callbacks.EarlyStopping(\n",
    "            monitor='val_accuracy',\n",
    "            patience=2,\n",
    "            restore_best_weights=True\n",
    "        )\n",
    "    ]\n",
    ")"
   ]
  },
  {
   "cell_type": "markdown",
   "metadata": {
    "papermill": {
     "duration": 0.403219,
     "end_time": "2020-11-16T22:21:31.433204",
     "exception": false,
     "start_time": "2020-11-16T22:21:31.029985",
     "status": "completed"
    },
    "tags": []
   },
   "source": [
    "# Results"
   ]
  },
  {
   "cell_type": "code",
   "execution_count": 18,
   "metadata": {
    "execution": {
     "iopub.execute_input": "2020-11-16T22:21:32.376696Z",
     "iopub.status.busy": "2020-11-16T22:21:32.375599Z",
     "iopub.status.idle": "2020-11-16T22:21:44.887237Z",
     "shell.execute_reply": "2020-11-16T22:21:44.886633Z"
    },
    "papermill": {
     "duration": 13.005487,
     "end_time": "2020-11-16T22:21:44.887346",
     "exception": false,
     "start_time": "2020-11-16T22:21:31.881859",
     "status": "completed"
    },
    "tags": []
   },
   "outputs": [
    {
     "name": "stdout",
     "output_type": "stream",
     "text": [
      "193/193 [==============================] - 12s 64ms/step - loss: 0.4347 - accuracy: 0.7962 - auc: 0.8787\n"
     ]
    },
    {
     "data": {
      "text/plain": [
       "[0.43469882011413574, 0.7961938977241516, 0.8787051439285278]"
      ]
     },
     "execution_count": 18,
     "metadata": {},
     "output_type": "execute_result"
    }
   ],
   "source": [
    "model.evaluate(test_inputs, test_labels)"
   ]
  }
 ],
 "metadata": {
  "kernelspec": {
   "display_name": "Python 3",
   "language": "python",
   "name": "python3"
  },
  "language_info": {
   "codemirror_mode": {
    "name": "ipython",
    "version": 3
   },
   "file_extension": ".py",
   "mimetype": "text/x-python",
   "name": "python",
   "nbconvert_exporter": "python",
   "pygments_lexer": "ipython3",
   "version": "3.7.6"
  },
  "papermill": {
   "duration": 240.829358,
   "end_time": "2020-11-16T22:21:47.613423",
   "environment_variables": {},
   "exception": null,
   "input_path": "__notebook__.ipynb",
   "output_path": "__notebook__.ipynb",
   "parameters": {},
   "start_time": "2020-11-16T22:17:46.784065",
   "version": "2.1.0"
  }
 },
 "nbformat": 4,
 "nbformat_minor": 4
}
