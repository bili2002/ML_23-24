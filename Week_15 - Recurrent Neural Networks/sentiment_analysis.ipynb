{
 "cells": [
  {
   "cell_type": "markdown",
   "metadata": {},
   "source": [
    "# Imports"
   ]
  },
  {
   "cell_type": "code",
   "execution_count": 129,
   "metadata": {},
   "outputs": [],
   "source": [
    "import numpy as np\n",
    "from numpy.random import seed\n",
    "seed(1)\n",
    "import matplotlib.pyplot as plt\n",
    "import pandas as pd\n",
    "import string\n",
    "import os\n",
    "import shutil\n",
    "import re\n",
    "\n",
    "#tensorflow = library specializing in neural networks\n",
    "import tensorflow as tf\n",
    "\n",
    "#keras = python interface for neural networks\n",
    "#runs on top of tensorflow (tensorflow is backend)\n",
    "#more use friendly\n",
    "\n",
    "from keras.models import Sequential\n",
    "from keras.layers import SimpleRNN, Dense, Embedding\n",
    "from tensorflow.keras.layers import TextVectorization\n",
    "from keras.optimizers import Adam\n",
    "\n",
    "from sklearn.linear_model import LinearRegression"
   ]
  },
  {
   "cell_type": "markdown",
   "metadata": {},
   "source": [
    "# Generate Training Data"
   ]
  },
  {
   "cell_type": "code",
   "execution_count": 130,
   "metadata": {},
   "outputs": [],
   "source": [
    "#generate sequence\n",
    "sequence = np.array(list(range(10))).astype(float)"
   ]
  },
  {
   "cell_type": "code",
   "execution_count": 131,
   "metadata": {},
   "outputs": [
    {
     "data": {
      "text/plain": [
       "array([0., 1., 2., 3., 4., 5., 6., 7., 8., 9.])"
      ]
     },
     "execution_count": 131,
     "metadata": {},
     "output_type": "execute_result"
    }
   ],
   "source": [
    "sequence"
   ]
  },
  {
   "cell_type": "code",
   "execution_count": 132,
   "metadata": {},
   "outputs": [],
   "source": [
    "#number of training words\n",
    "window_size = 3"
   ]
  },
  {
   "cell_type": "code",
   "execution_count": 133,
   "metadata": {},
   "outputs": [],
   "source": [
    "#generate training data\n",
    "train_data = [np.array(sequence[i:i+window_size]).reshape(1,-1) for i in range(sequence.shape[0]-window_size)]\n",
    "train_data = np.concatenate(train_data*10, axis=0)\n",
    "train_data = train_data.reshape(train_data.shape[0], train_data.shape[1], 1)"
   ]
  },
  {
   "cell_type": "code",
   "execution_count": 134,
   "metadata": {},
   "outputs": [
    {
     "data": {
      "text/plain": [
       "(70, 3, 1)"
      ]
     },
     "execution_count": 134,
     "metadata": {},
     "output_type": "execute_result"
    }
   ],
   "source": [
    "train_data.shape"
   ]
  },
  {
   "cell_type": "code",
   "execution_count": 135,
   "metadata": {},
   "outputs": [
    {
     "data": {
      "text/plain": [
       "array([[[0.],\n",
       "        [1.],\n",
       "        [2.]],\n",
       "\n",
       "       [[1.],\n",
       "        [2.],\n",
       "        [3.]],\n",
       "\n",
       "       [[2.],\n",
       "        [3.],\n",
       "        [4.]]])"
      ]
     },
     "execution_count": 135,
     "metadata": {},
     "output_type": "execute_result"
    }
   ],
   "source": [
    "train_data[:3]"
   ]
  },
  {
   "cell_type": "code",
   "execution_count": 136,
   "metadata": {},
   "outputs": [],
   "source": [
    "#get training labels\n",
    "train_label = [sequence[i+window_size] for i in range(sequence.shape[0]-window_size)]\n",
    "train_label = np.concatenate([train_label]*10).reshape(-1,1)"
   ]
  },
  {
   "cell_type": "code",
   "execution_count": 137,
   "metadata": {},
   "outputs": [
    {
     "data": {
      "text/plain": [
       "array([[3.],\n",
       "       [4.],\n",
       "       [5.]])"
      ]
     },
     "execution_count": 137,
     "metadata": {},
     "output_type": "execute_result"
    }
   ],
   "source": [
    "train_label[:3]"
   ]
  },
  {
   "cell_type": "markdown",
   "metadata": {},
   "source": [
    "# Train Model"
   ]
  },
  {
   "cell_type": "code",
   "execution_count": 138,
   "metadata": {
    "scrolled": true
   },
   "outputs": [
    {
     "name": "stdout",
     "output_type": "stream",
     "text": [
      "Epoch 1/100\n",
      "WARNING:tensorflow:AutoGraph could not transform <function Model.make_train_function.<locals>.train_function at 0x000001A45C2A7168> and will run it as-is.\n",
      "Please report this to the TensorFlow team. When filing the bug, set the verbosity to 10 (on Linux, `export AUTOGRAPH_VERBOSITY=10`) and attach the full output.\n",
      "Cause: 'arguments' object has no attribute 'posonlyargs'\n",
      "To silence this warning, decorate the function with @tf.autograph.experimental.do_not_convert\n",
      "WARNING: AutoGraph could not transform <function Model.make_train_function.<locals>.train_function at 0x000001A45C2A7168> and will run it as-is.\n",
      "Please report this to the TensorFlow team. When filing the bug, set the verbosity to 10 (on Linux, `export AUTOGRAPH_VERBOSITY=10`) and attach the full output.\n",
      "Cause: 'arguments' object has no attribute 'posonlyargs'\n",
      "To silence this warning, decorate the function with @tf.autograph.experimental.do_not_convert\n",
      "3/3 [==============================] - 2s 5ms/step - loss: 15.7723 - mse: 15.7723\n",
      "Epoch 2/100\n",
      "3/3 [==============================] - 0s 6ms/step - loss: 29.6457 - mse: 29.6457\n",
      "Epoch 3/100\n",
      "3/3 [==============================] - 0s 6ms/step - loss: 54.5355 - mse: 54.5355\n",
      "Epoch 4/100\n",
      "3/3 [==============================] - 0s 5ms/step - loss: 12.4757 - mse: 12.4757\n",
      "Epoch 5/100\n",
      "3/3 [==============================] - 0s 5ms/step - loss: 26.3965 - mse: 26.3965\n",
      "Epoch 6/100\n",
      "3/3 [==============================] - 0s 6ms/step - loss: 3.8848 - mse: 3.8848\n",
      "Epoch 7/100\n",
      "3/3 [==============================] - 0s 6ms/step - loss: 6.9201 - mse: 6.9201\n",
      "Epoch 8/100\n",
      "3/3 [==============================] - 0s 6ms/step - loss: 0.8541 - mse: 0.8541\n",
      "Epoch 9/100\n",
      "3/3 [==============================] - 0s 5ms/step - loss: 4.7546 - mse: 4.7546\n",
      "Epoch 10/100\n",
      "3/3 [==============================] - 0s 5ms/step - loss: 1.1954 - mse: 1.1954\n",
      "Epoch 11/100\n",
      "3/3 [==============================] - 0s 5ms/step - loss: 2.2884 - mse: 2.2884\n",
      "Epoch 12/100\n",
      "3/3 [==============================] - 0s 5ms/step - loss: 0.6744 - mse: 0.6744\n",
      "Epoch 13/100\n",
      "3/3 [==============================] - 0s 6ms/step - loss: 0.5586 - mse: 0.5586\n",
      "Epoch 14/100\n",
      "3/3 [==============================] - 0s 6ms/step - loss: 0.8051 - mse: 0.8051\n",
      "Epoch 15/100\n",
      "3/3 [==============================] - 0s 6ms/step - loss: 0.2906 - mse: 0.2906\n",
      "Epoch 16/100\n",
      "3/3 [==============================] - 0s 6ms/step - loss: 0.3821 - mse: 0.3821\n",
      "Epoch 17/100\n",
      "3/3 [==============================] - 0s 7ms/step - loss: 0.0624 - mse: 0.0624\n",
      "Epoch 18/100\n",
      "3/3 [==============================] - 0s 7ms/step - loss: 0.4418 - mse: 0.4418\n",
      "Epoch 19/100\n",
      "3/3 [==============================] - 0s 6ms/step - loss: 0.0690 - mse: 0.0690\n",
      "Epoch 20/100\n",
      "3/3 [==============================] - 0s 6ms/step - loss: 0.2564 - mse: 0.2564\n",
      "Epoch 21/100\n",
      "3/3 [==============================] - 0s 5ms/step - loss: 0.1019 - mse: 0.1019\n",
      "Epoch 22/100\n",
      "3/3 [==============================] - 0s 6ms/step - loss: 0.1010 - mse: 0.1010\n",
      "Epoch 23/100\n",
      "3/3 [==============================] - 0s 6ms/step - loss: 0.0844 - mse: 0.0844\n",
      "Epoch 24/100\n",
      "3/3 [==============================] - 0s 6ms/step - loss: 0.0192 - mse: 0.0192\n",
      "Epoch 25/100\n",
      "3/3 [==============================] - 0s 5ms/step - loss: 0.0923 - mse: 0.0923\n",
      "Epoch 26/100\n",
      "3/3 [==============================] - 0s 6ms/step - loss: 0.0126 - mse: 0.0126\n",
      "Epoch 27/100\n",
      "3/3 [==============================] - 0s 7ms/step - loss: 0.0385 - mse: 0.0385\n",
      "Epoch 28/100\n",
      "3/3 [==============================] - 0s 5ms/step - loss: 0.0191 - mse: 0.0191\n",
      "Epoch 29/100\n",
      "3/3 [==============================] - 0s 6ms/step - loss: 0.0118 - mse: 0.0118\n",
      "Epoch 30/100\n",
      "3/3 [==============================] - 0s 6ms/step - loss: 0.0173 - mse: 0.0173\n",
      "Epoch 31/100\n",
      "3/3 [==============================] - 0s 6ms/step - loss: 0.0034 - mse: 0.0034\n",
      "Epoch 32/100\n",
      "3/3 [==============================] - 0s 5ms/step - loss: 0.0064 - mse: 0.0064\n",
      "Epoch 33/100\n",
      "3/3 [==============================] - 0s 6ms/step - loss: 0.0043 - mse: 0.0043\n",
      "Epoch 34/100\n",
      "3/3 [==============================] - 0s 6ms/step - loss: 0.0012 - mse: 0.0012\n",
      "Epoch 35/100\n",
      "3/3 [==============================] - 0s 6ms/step - loss: 0.0017 - mse: 0.0017\n",
      "Epoch 36/100\n",
      "3/3 [==============================] - 0s 6ms/step - loss: 8.8134e-04 - mse: 8.8134e-04\n",
      "Epoch 37/100\n",
      "3/3 [==============================] - 0s 6ms/step - loss: 2.7816e-04 - mse: 2.7816e-04\n",
      "Epoch 38/100\n",
      "3/3 [==============================] - 0s 6ms/step - loss: 5.3175e-04 - mse: 5.3175e-04\n",
      "Epoch 39/100\n",
      "3/3 [==============================] - 0s 6ms/step - loss: 2.9074e-04 - mse: 2.9074e-04\n",
      "Epoch 40/100\n",
      "3/3 [==============================] - 0s 7ms/step - loss: 6.6856e-05 - mse: 6.6856e-05\n",
      "Epoch 41/100\n",
      "3/3 [==============================] - 0s 5ms/step - loss: 1.5077e-04 - mse: 1.5077e-04\n",
      "Epoch 42/100\n",
      "3/3 [==============================] - 0s 6ms/step - loss: 9.6243e-05 - mse: 9.6243e-05\n",
      "Epoch 43/100\n",
      "3/3 [==============================] - 0s 6ms/step - loss: 2.8741e-05 - mse: 2.8741e-05\n",
      "Epoch 44/100\n",
      "3/3 [==============================] - 0s 5ms/step - loss: 7.8728e-05 - mse: 7.8728e-05\n",
      "Epoch 45/100\n",
      "3/3 [==============================] - 0s 6ms/step - loss: 4.6859e-05 - mse: 4.6859e-05\n",
      "Epoch 46/100\n",
      "3/3 [==============================] - 0s 5ms/step - loss: 2.0904e-05 - mse: 2.0904e-05\n",
      "Epoch 47/100\n",
      "3/3 [==============================] - 0s 6ms/step - loss: 5.2240e-05 - mse: 5.2240e-05\n",
      "Epoch 48/100\n",
      "3/3 [==============================] - 0s 6ms/step - loss: 4.1604e-05 - mse: 4.1604e-05\n",
      "Epoch 49/100\n",
      "3/3 [==============================] - 0s 5ms/step - loss: 1.4680e-05 - mse: 1.4680e-05\n",
      "Epoch 50/100\n",
      "3/3 [==============================] - 0s 5ms/step - loss: 1.9893e-05 - mse: 1.9893e-05\n",
      "Epoch 51/100\n",
      "3/3 [==============================] - 0s 6ms/step - loss: 2.7048e-05 - mse: 2.7048e-05\n",
      "Epoch 52/100\n",
      "3/3 [==============================] - 0s 5ms/step - loss: 5.4073e-06 - mse: 5.4073e-06\n",
      "Epoch 53/100\n",
      "3/3 [==============================] - 0s 5ms/step - loss: 2.6219e-06 - mse: 2.6219e-06\n",
      "Epoch 54/100\n",
      "3/3 [==============================] - 0s 5ms/step - loss: 5.1347e-06 - mse: 5.1347e-06\n",
      "Epoch 55/100\n",
      "3/3 [==============================] - 0s 5ms/step - loss: 4.0233e-06 - mse: 4.0233e-06\n",
      "Epoch 56/100\n",
      "3/3 [==============================] - 0s 5ms/step - loss: 6.5324e-07 - mse: 6.5324e-07\n",
      "Epoch 57/100\n",
      "3/3 [==============================] - 0s 5ms/step - loss: 1.8779e-06 - mse: 1.8779e-06\n",
      "Epoch 58/100\n",
      "3/3 [==============================] - 0s 6ms/step - loss: 2.4293e-06 - mse: 2.4293e-06\n",
      "Epoch 59/100\n",
      "3/3 [==============================] - 0s 6ms/step - loss: 8.6502e-07 - mse: 8.6502e-07\n",
      "Epoch 60/100\n",
      "3/3 [==============================] - 0s 5ms/step - loss: 3.0929e-07 - mse: 3.0929e-07\n",
      "Epoch 61/100\n",
      "3/3 [==============================] - 0s 4ms/step - loss: 7.0222e-07 - mse: 7.0222e-07\n",
      "Epoch 62/100\n",
      "3/3 [==============================] - 0s 6ms/step - loss: 6.3586e-07 - mse: 6.3586e-07\n",
      "Epoch 63/100\n",
      "3/3 [==============================] - 0s 5ms/step - loss: 2.4668e-07 - mse: 2.4668e-07\n",
      "Epoch 64/100\n",
      "3/3 [==============================] - 0s 6ms/step - loss: 1.1003e-07 - mse: 1.1003e-07\n",
      "Epoch 65/100\n",
      "3/3 [==============================] - 0s 6ms/step - loss: 2.1603e-07 - mse: 2.1603e-07\n",
      "Epoch 66/100\n",
      "3/3 [==============================] - 0s 5ms/step - loss: 2.2200e-07 - mse: 2.2200e-07\n",
      "Epoch 67/100\n",
      "3/3 [==============================] - 0s 6ms/step - loss: 4.9481e-08 - mse: 4.9481e-08\n",
      "Epoch 68/100\n",
      "3/3 [==============================] - 0s 5ms/step - loss: 2.7480e-08 - mse: 2.7480e-08\n",
      "Epoch 69/100\n",
      "3/3 [==============================] - 0s 5ms/step - loss: 5.3272e-08 - mse: 5.3272e-08\n",
      "Epoch 70/100\n",
      "3/3 [==============================] - 0s 5ms/step - loss: 4.0269e-08 - mse: 4.0269e-08\n",
      "Epoch 71/100\n",
      "3/3 [==============================] - 0s 6ms/step - loss: 2.0653e-08 - mse: 2.0653e-08\n",
      "Epoch 72/100\n",
      "3/3 [==============================] - 0s 5ms/step - loss: 1.3447e-08 - mse: 1.3447e-08\n",
      "Epoch 73/100\n",
      "3/3 [==============================] - 0s 5ms/step - loss: 6.2609e-09 - mse: 6.2609e-09\n",
      "Epoch 74/100\n",
      "3/3 [==============================] - 0s 5ms/step - loss: 1.2421e-08 - mse: 1.2421e-08\n",
      "Epoch 75/100\n"
     ]
    },
    {
     "name": "stdout",
     "output_type": "stream",
     "text": [
      "3/3 [==============================] - 0s 5ms/step - loss: 1.2899e-08 - mse: 1.2899e-08\n",
      "Epoch 76/100\n",
      "3/3 [==============================] - 0s 6ms/step - loss: 8.4643e-09 - mse: 8.4643e-09\n",
      "Epoch 77/100\n",
      "3/3 [==============================] - 0s 5ms/step - loss: 2.5840e-09 - mse: 2.5840e-09\n",
      "Epoch 78/100\n",
      "3/3 [==============================] - 0s 6ms/step - loss: 2.1872e-09 - mse: 2.1872e-09\n",
      "Epoch 79/100\n",
      "3/3 [==============================] - 0s 6ms/step - loss: 4.8965e-09 - mse: 4.8965e-09\n",
      "Epoch 80/100\n",
      "3/3 [==============================] - 0s 6ms/step - loss: 4.5852e-09 - mse: 4.5852e-09\n",
      "Epoch 81/100\n",
      "3/3 [==============================] - 0s 5ms/step - loss: 2.3975e-09 - mse: 2.3975e-09\n",
      "Epoch 82/100\n",
      "3/3 [==============================] - 0s 6ms/step - loss: 7.5539e-10 - mse: 7.5539e-10\n",
      "Epoch 83/100\n",
      "3/3 [==============================] - 0s 7ms/step - loss: 1.3258e-09 - mse: 1.3258e-09\n",
      "Epoch 84/100\n",
      "3/3 [==============================] - 0s 5ms/step - loss: 1.7825e-09 - mse: 1.7825e-09\n",
      "Epoch 85/100\n",
      "3/3 [==============================] - 0s 6ms/step - loss: 1.2360e-09 - mse: 1.2360e-09\n",
      "Epoch 86/100\n",
      "3/3 [==============================] - 0s 5ms/step - loss: 4.1893e-10 - mse: 4.1893e-10\n",
      "Epoch 87/100\n",
      "3/3 [==============================] - 0s 6ms/step - loss: 2.2869e-10 - mse: 2.2869e-10\n",
      "Epoch 88/100\n",
      "3/3 [==============================] - 0s 6ms/step - loss: 1.3301e-10 - mse: 1.3301e-10\n",
      "Epoch 89/100\n",
      "3/3 [==============================] - 0s 5ms/step - loss: 3.4074e-10 - mse: 3.4074e-10\n",
      "Epoch 90/100\n",
      "3/3 [==============================] - 0s 5ms/step - loss: 3.1602e-10 - mse: 3.1602e-10\n",
      "Epoch 91/100\n",
      "3/3 [==============================] - 0s 9ms/step - loss: 2.9803e-10 - mse: 2.9803e-10\n",
      "Epoch 92/100\n",
      "3/3 [==============================] - 0s 12ms/step - loss: 1.2859e-10 - mse: 1.2859e-10\n",
      "Epoch 93/100\n",
      "3/3 [==============================] - 0s 11ms/step - loss: 6.9501e-11 - mse: 6.9501e-11\n",
      "Epoch 94/100\n",
      "3/3 [==============================] - 0s 11ms/step - loss: 7.6954e-11 - mse: 7.6954e-11\n",
      "Epoch 95/100\n",
      "3/3 [==============================] - 0s 10ms/step - loss: 7.0726e-11 - mse: 7.0726e-11\n",
      "Epoch 96/100\n",
      "3/3 [==============================] - 0s 10ms/step - loss: 9.0717e-11 - mse: 9.0717e-11\n",
      "Epoch 97/100\n",
      "3/3 [==============================] - 0s 9ms/step - loss: 6.2520e-11 - mse: 6.2520e-11\n",
      "Epoch 98/100\n",
      "3/3 [==============================] - 0s 10ms/step - loss: 2.6828e-11 - mse: 2.6828e-11\n",
      "Epoch 99/100\n",
      "3/3 [==============================] - 0s 7ms/step - loss: 2.0801e-11 - mse: 2.0801e-11\n",
      "Epoch 100/100\n",
      "3/3 [==============================] - 0s 5ms/step - loss: 1.3677e-11 - mse: 1.3677e-11\n"
     ]
    },
    {
     "data": {
      "text/plain": [
       "<keras.callbacks.History at 0x1a45c2c19c8>"
      ]
     },
     "execution_count": 138,
     "metadata": {},
     "output_type": "execute_result"
    }
   ],
   "source": [
    "#init model\n",
    "model = Sequential()  \n",
    "\n",
    "#RNN\n",
    "model.add(SimpleRNN(1, activation='linear'))\n",
    "\n",
    "#compile model\n",
    "opt = Adam(learning_rate=1)\n",
    "model.compile(loss='mean_squared_error', optimizer=opt, metrics=['mse'])\n",
    "\n",
    "#train model\n",
    "model.fit(train_data, train_label, epochs=100, verbose=1)"
   ]
  },
  {
   "cell_type": "code",
   "execution_count": 139,
   "metadata": {},
   "outputs": [
    {
     "name": "stdout",
     "output_type": "stream",
     "text": [
      "Model: \"sequential_12\"\n",
      "_________________________________________________________________\n",
      " Layer (type)                Output Shape              Param #   \n",
      "=================================================================\n",
      " simple_rnn_9 (SimpleRNN)    (None, 1)                 3         \n",
      "                                                                 \n",
      "=================================================================\n",
      "Total params: 3\n",
      "Trainable params: 3\n",
      "Non-trainable params: 0\n",
      "_________________________________________________________________\n"
     ]
    }
   ],
   "source": [
    "model.summary()"
   ]
  },
  {
   "cell_type": "markdown",
   "metadata": {},
   "source": [
    "## Hmm why are there 3 parameters and not 4?"
   ]
  },
  {
   "cell_type": "markdown",
   "metadata": {},
   "source": [
    "## SimpleRNN simply uses the output layer as the hidden state:\n",
    "https://datascience.stackexchange.com/questions/94644/does-the-simplernn-in-keras-have-a-hidden-state-or-does-it-just-use-the-output"
   ]
  },
  {
   "cell_type": "markdown",
   "metadata": {},
   "source": [
    "# Predict Using Model"
   ]
  },
  {
   "cell_type": "markdown",
   "metadata": {},
   "source": [
    "## On Known Data"
   ]
  },
  {
   "cell_type": "code",
   "execution_count": 140,
   "metadata": {},
   "outputs": [
    {
     "name": "stdout",
     "output_type": "stream",
     "text": [
      "WARNING:tensorflow:AutoGraph could not transform <function Model.make_predict_function.<locals>.predict_function at 0x000001A45C22CDC8> and will run it as-is.\n",
      "Please report this to the TensorFlow team. When filing the bug, set the verbosity to 10 (on Linux, `export AUTOGRAPH_VERBOSITY=10`) and attach the full output.\n",
      "Cause: 'arguments' object has no attribute 'posonlyargs'\n",
      "To silence this warning, decorate the function with @tf.autograph.experimental.do_not_convert\n",
      "WARNING: AutoGraph could not transform <function Model.make_predict_function.<locals>.predict_function at 0x000001A45C22CDC8> and will run it as-is.\n",
      "Please report this to the TensorFlow team. When filing the bug, set the verbosity to 10 (on Linux, `export AUTOGRAPH_VERBOSITY=10`) and attach the full output.\n",
      "Cause: 'arguments' object has no attribute 'posonlyargs'\n",
      "To silence this warning, decorate the function with @tf.autograph.experimental.do_not_convert\n",
      "3/3 [==============================] - 0s 4ms/step\n"
     ]
    }
   ],
   "source": [
    "#make predictions using the model\n",
    "preds = model.predict(train_data).flatten()"
   ]
  },
  {
   "cell_type": "code",
   "execution_count": 141,
   "metadata": {
    "scrolled": true
   },
   "outputs": [
    {
     "name": "stdout",
     "output_type": "stream",
     "text": [
      "[0. 1. 2.] -> 2.9999990463256836\n",
      "[1. 2. 3.] -> 3.99999737739563\n",
      "[2. 3. 4.] -> 4.999996185302734\n"
     ]
    }
   ],
   "source": [
    "#print some outputs\n",
    "for i in range(len(preds[:3])):\n",
    "    example = train_data[i].flatten()\n",
    "    pred = preds[i]\n",
    "    print(f'{example} -> {pred}')"
   ]
  },
  {
   "cell_type": "code",
   "execution_count": 142,
   "metadata": {},
   "outputs": [
    {
     "data": {
      "text/plain": [
       "Text(0, 0.5, 'actual')"
      ]
     },
     "execution_count": 142,
     "metadata": {},
     "output_type": "execute_result"
    },
    {
     "data": {
      "image/png": "[encoded data removed]",
      "text/plain": [
       "<Figure size 504x504 with 1 Axes>"
      ]
     },
     "metadata": {
      "needs_background": "light"
     },
     "output_type": "display_data"
    }
   ],
   "source": [
    "plt.figure(figsize=(7,7))\n",
    "actuals = train_label.flatten()\n",
    "plt.plot([0,10], [0,10], color='k', linestyle='--', alpha=0.5, linewidth=2)\n",
    "plt.scatter(preds, actuals, s=100, color='r')\n",
    "plt.xlabel('predicted', fontsize=20)\n",
    "plt.ylabel('actual', fontsize=20)"
   ]
  },
  {
   "cell_type": "markdown",
   "metadata": {},
   "source": [
    "## On Unknown Data"
   ]
  },
  {
   "cell_type": "code",
   "execution_count": 143,
   "metadata": {},
   "outputs": [],
   "source": [
    "out_of_sample_data = np.array([[6,7,8], [7,8,9], [8,9,10], [9,10,11], [10,11,12]]).reshape(5,3,1)"
   ]
  },
  {
   "cell_type": "code",
   "execution_count": 144,
   "metadata": {},
   "outputs": [
    {
     "name": "stdout",
     "output_type": "stream",
     "text": [
      "1/1 [==============================] - 0s 310ms/step\n"
     ]
    }
   ],
   "source": [
    "#make predictions using the model\n",
    "preds = model.predict(out_of_sample_data).flatten()"
   ]
  },
  {
   "cell_type": "code",
   "execution_count": 145,
   "metadata": {},
   "outputs": [
    {
     "name": "stdout",
     "output_type": "stream",
     "text": [
      "[6 7 8] -> 8.999991416931152\n",
      "[7 8 9] -> 9.999990463256836\n",
      "[ 8  9 10] -> 10.99998950958252\n",
      "[ 9 10 11] -> 11.999988555908203\n",
      "[10 11 12] -> 12.99998664855957\n"
     ]
    }
   ],
   "source": [
    "#print some outputs\n",
    "for i in range(len(preds)):\n",
    "    example = out_of_sample_data[i].flatten()\n",
    "    pred = preds[i]\n",
    "    print(f'{example} -> {pred}')"
   ]
  },
  {
   "cell_type": "markdown",
   "metadata": {},
   "source": [
    "# A Look Under the Hood"
   ]
  },
  {
   "cell_type": "code",
   "execution_count": 146,
   "metadata": {},
   "outputs": [
    {
     "data": {
      "text/plain": [
       "array([[0.9306787]], dtype=float32)"
      ]
     },
     "execution_count": 146,
     "metadata": {},
     "output_type": "execute_result"
    }
   ],
   "source": [
    "#input vector weights in RNN (U)\n",
    "model.weights[0].numpy()"
   ]
  },
  {
   "cell_type": "code",
   "execution_count": 147,
   "metadata": {},
   "outputs": [
    {
     "data": {
      "text/plain": [
       "array([[0.06963436]], dtype=float32)"
      ]
     },
     "execution_count": 147,
     "metadata": {},
     "output_type": "execute_result"
    }
   ],
   "source": [
    "#recurrent state weights in RNN (V)\n",
    "model.weights[1].numpy()"
   ]
  },
  {
   "cell_type": "code",
   "execution_count": 148,
   "metadata": {},
   "outputs": [
    {
     "data": {
      "text/plain": [
       "array([0.99939597], dtype=float32)"
      ]
     },
     "execution_count": 148,
     "metadata": {},
     "output_type": "execute_result"
    }
   ],
   "source": [
    "#bias term weights in RNN (b)\n",
    "model.weights[2].numpy()"
   ]
  },
  {
   "cell_type": "markdown",
   "metadata": {},
   "source": [
    "# So the model has learned that\n",
    "## $y_t = 0.93x_t + 0.07y_{t-1} + 1$\n",
    "## $y_t = 0.93x_t + 0.07x_t + 1$\n",
    "## $y_t = x_t + 1$"
   ]
  },
  {
   "cell_type": "markdown",
   "metadata": {},
   "source": [
    "# But ... this isn't that impressive"
   ]
  },
  {
   "cell_type": "code",
   "execution_count": 149,
   "metadata": {},
   "outputs": [
    {
     "data": {
      "text/plain": [
       "LinearRegression()"
      ]
     },
     "execution_count": 149,
     "metadata": {},
     "output_type": "execute_result"
    }
   ],
   "source": [
    "clf = LinearRegression()\n",
    "clf.fit(train_data.reshape((train_data.shape[0], -1)), train_label.flatten())"
   ]
  },
  {
   "cell_type": "code",
   "execution_count": 150,
   "metadata": {},
   "outputs": [],
   "source": [
    "#make predictions using the linear model\n",
    "n = out_of_sample_data.shape[0]\n",
    "preds = clf.predict(out_of_sample_data.reshape(n,-1)).flatten()"
   ]
  },
  {
   "cell_type": "code",
   "execution_count": 151,
   "metadata": {},
   "outputs": [
    {
     "name": "stdout",
     "output_type": "stream",
     "text": [
      "[6 7 8] -> 9.0\n",
      "[7 8 9] -> 10.0\n",
      "[ 8  9 10] -> 11.0\n",
      "[ 9 10 11] -> 11.999999999999998\n",
      "[10 11 12] -> 13.0\n"
     ]
    }
   ],
   "source": [
    "#print some outputs\n",
    "for i in range(len(preds)):\n",
    "    example = out_of_sample_data[i].flatten()\n",
    "    pred = preds[i]\n",
    "    print(f'{example} -> {pred}')"
   ]
  },
  {
   "cell_type": "markdown",
   "metadata": {},
   "source": [
    "---"
   ]
  },
  {
   "cell_type": "markdown",
   "metadata": {},
   "source": [
    "# Harder Case"
   ]
  },
  {
   "cell_type": "code",
   "execution_count": 152,
   "metadata": {},
   "outputs": [],
   "source": [
    "def sigmoid(v):\n",
    "    return 1.0 / (1.0 + np.exp(-v))"
   ]
  },
  {
   "cell_type": "code",
   "execution_count": 153,
   "metadata": {},
   "outputs": [],
   "source": [
    "sequence = np.sin(np.arange(0,6*3.14159,0.1))\n",
    "sequence += np.random.normal(0,0.05,len(sequence))"
   ]
  },
  {
   "cell_type": "code",
   "execution_count": 154,
   "metadata": {},
   "outputs": [
    {
     "data": {
      "text/plain": [
       "<matplotlib.collections.PathCollection at 0x1a45c4cedc8>"
      ]
     },
     "execution_count": 154,
     "metadata": {},
     "output_type": "execute_result"
    },
    {
     "data": {
      "image/png": "[encoded data removed]",
      "text/plain": [
       "<Figure size 864x288 with 1 Axes>"
      ]
     },
     "metadata": {
      "needs_background": "light"
     },
     "output_type": "display_data"
    }
   ],
   "source": [
    "plt.figure(figsize=(12,4))\n",
    "plt.plot(sequence)\n",
    "plt.scatter(range(len(sequence)), sequence)"
   ]
  },
  {
   "cell_type": "code",
   "execution_count": 155,
   "metadata": {},
   "outputs": [],
   "source": [
    "#generate training data\n",
    "train_data = [np.array(sequence[i:i+window_size]).reshape(1,-1) for i in range(sequence.shape[0]-window_size)]\n",
    "train_data = np.concatenate(train_data*10, axis=0)\n",
    "train_data = train_data.reshape(train_data.shape[0], train_data.shape[1], 1)"
   ]
  },
  {
   "cell_type": "code",
   "execution_count": 156,
   "metadata": {},
   "outputs": [],
   "source": [
    "#get training labels\n",
    "train_label = [sequence[i+window_size] for i in range(sequence.shape[0]-window_size)]\n",
    "train_label = np.concatenate([train_label]*10).reshape(-1,1)"
   ]
  },
  {
   "cell_type": "markdown",
   "metadata": {},
   "source": [
    "## Try a Linear Model"
   ]
  },
  {
   "cell_type": "code",
   "execution_count": 157,
   "metadata": {},
   "outputs": [
    {
     "data": {
      "text/plain": [
       "LinearRegression()"
      ]
     },
     "execution_count": 157,
     "metadata": {},
     "output_type": "execute_result"
    }
   ],
   "source": [
    "clf = LinearRegression()\n",
    "clf.fit(train_data.reshape((train_data.shape[0], -1)), train_label.flatten())"
   ]
  },
  {
   "cell_type": "code",
   "execution_count": 158,
   "metadata": {},
   "outputs": [],
   "source": [
    "#make predictions using the linear model\n",
    "preds = []\n",
    "input_vec = train_data[-1].copy()\n",
    "for _ in range(15):\n",
    "    pred = clf.predict(input_vec.reshape(1,-1)).flatten()\n",
    "    preds.append(pred[0])\n",
    "    input_vec[0][-1] = pred[0]"
   ]
  },
  {
   "cell_type": "code",
   "execution_count": 159,
   "metadata": {},
   "outputs": [
    {
     "data": {
      "text/plain": [
       "<matplotlib.collections.PathCollection at 0x1a45c5bbd88>"
      ]
     },
     "execution_count": 159,
     "metadata": {},
     "output_type": "execute_result"
    },
    {
     "data": {
      "image/png": "[encoded data removed]",
      "text/plain": [
       "<Figure size 864x288 with 1 Axes>"
      ]
     },
     "metadata": {
      "needs_background": "light"
     },
     "output_type": "display_data"
    }
   ],
   "source": [
    "plt.figure(figsize=(12,4))\n",
    "plt.plot(sequence)\n",
    "plt.scatter(range(len(sequence)), sequence)\n",
    "plt.scatter(range(len(sequence)+1, len(sequence)+15), preds[1:])"
   ]
  },
  {
   "cell_type": "markdown",
   "metadata": {},
   "source": [
    "## Train an RNN"
   ]
  },
  {
   "cell_type": "code",
   "execution_count": 160,
   "metadata": {},
   "outputs": [
    {
     "name": "stdout",
     "output_type": "stream",
     "text": [
      "Epoch 1/25\n",
      "WARNING:tensorflow:AutoGraph could not transform <function Model.make_train_function.<locals>.train_function at 0x000001A45C60BE58> and will run it as-is.\n",
      "Please report this to the TensorFlow team. When filing the bug, set the verbosity to 10 (on Linux, `export AUTOGRAPH_VERBOSITY=10`) and attach the full output.\n",
      "Cause: 'arguments' object has no attribute 'posonlyargs'\n",
      "To silence this warning, decorate the function with @tf.autograph.experimental.do_not_convert\n",
      "WARNING: AutoGraph could not transform <function Model.make_train_function.<locals>.train_function at 0x000001A45C60BE58> and will run it as-is.\n",
      "Please report this to the TensorFlow team. When filing the bug, set the verbosity to 10 (on Linux, `export AUTOGRAPH_VERBOSITY=10`) and attach the full output.\n",
      "Cause: 'arguments' object has no attribute 'posonlyargs'\n",
      "To silence this warning, decorate the function with @tf.autograph.experimental.do_not_convert\n",
      "59/59 [==============================] - 2s 4ms/step - loss: 0.0144 - mse: 0.0144\n",
      "Epoch 2/25\n",
      "59/59 [==============================] - 0s 4ms/step - loss: 0.0076 - mse: 0.0076\n",
      "Epoch 3/25\n",
      "59/59 [==============================] - 0s 5ms/step - loss: 0.0071 - mse: 0.0071\n",
      "Epoch 4/25\n",
      "59/59 [==============================] - 0s 7ms/step - loss: 0.0069 - mse: 0.0069\n",
      "Epoch 5/25\n",
      "59/59 [==============================] - 0s 7ms/step - loss: 0.0081 - mse: 0.0081\n",
      "Epoch 6/25\n",
      "59/59 [==============================] - 0s 5ms/step - loss: 0.0097 - mse: 0.0097\n",
      "Epoch 7/25\n",
      "59/59 [==============================] - 0s 6ms/step - loss: 0.0077 - mse: 0.0077\n",
      "Epoch 8/25\n",
      "59/59 [==============================] - 0s 7ms/step - loss: 0.0079 - mse: 0.0079\n",
      "Epoch 9/25\n",
      "59/59 [==============================] - 0s 8ms/step - loss: 0.0084 - mse: 0.0084\n",
      "Epoch 10/25\n",
      "59/59 [==============================] - 1s 9ms/step - loss: 0.0077 - mse: 0.0077\n",
      "Epoch 11/25\n",
      "59/59 [==============================] - 0s 8ms/step - loss: 0.0087 - mse: 0.0087\n",
      "Epoch 12/25\n",
      "59/59 [==============================] - 0s 5ms/step - loss: 0.0077 - mse: 0.0077\n",
      "Epoch 13/25\n",
      "59/59 [==============================] - 0s 5ms/step - loss: 0.0071 - mse: 0.0071\n",
      "Epoch 14/25\n",
      "59/59 [==============================] - 0s 5ms/step - loss: 0.0075 - mse: 0.0075\n",
      "Epoch 15/25\n",
      "59/59 [==============================] - 0s 5ms/step - loss: 0.0089 - mse: 0.0089\n",
      "Epoch 16/25\n",
      "59/59 [==============================] - 0s 7ms/step - loss: 0.0086 - mse: 0.0086\n",
      "Epoch 17/25\n",
      "59/59 [==============================] - 0s 7ms/step - loss: 0.0073 - mse: 0.0073\n",
      "Epoch 18/25\n",
      "59/59 [==============================] - 0s 7ms/step - loss: 0.0086 - mse: 0.0086\n",
      "Epoch 19/25\n",
      "59/59 [==============================] - 0s 8ms/step - loss: 0.0079 - mse: 0.0079\n",
      "Epoch 20/25\n",
      "59/59 [==============================] - 0s 6ms/step - loss: 0.0082 - mse: 0.0082\n",
      "Epoch 21/25\n",
      "59/59 [==============================] - 0s 8ms/step - loss: 0.0082 - mse: 0.0082\n",
      "Epoch 22/25\n",
      "59/59 [==============================] - 0s 8ms/step - loss: 0.0091 - mse: 0.0091\n",
      "Epoch 23/25\n",
      "59/59 [==============================] - 1s 9ms/step - loss: 0.0072 - mse: 0.0072\n",
      "Epoch 24/25\n",
      "59/59 [==============================] - 0s 6ms/step - loss: 0.0079 - mse: 0.0079\n",
      "Epoch 25/25\n",
      "59/59 [==============================] - 0s 6ms/step - loss: 0.0078 - mse: 0.0078\n"
     ]
    },
    {
     "data": {
      "text/plain": [
       "<keras.callbacks.History at 0x1a45c62f748>"
      ]
     },
     "execution_count": 160,
     "metadata": {},
     "output_type": "execute_result"
    }
   ],
   "source": [
    "#init model\n",
    "model = Sequential()  \n",
    "\n",
    "#RNN\n",
    "model.add(SimpleRNN(2, activation='tanh'))\n",
    "\n",
    "#Dense layer\n",
    "model.add(Dense(1))\n",
    "\n",
    "#compile model\n",
    "opt = Adam(learning_rate=0.1)\n",
    "model.compile(loss='mean_squared_error', optimizer=opt, metrics=['mse'])\n",
    "\n",
    "#train model\n",
    "model.fit(train_data, train_label, epochs=25, verbose=1)"
   ]
  },
  {
   "cell_type": "code",
   "execution_count": 161,
   "metadata": {},
   "outputs": [
    {
     "name": "stdout",
     "output_type": "stream",
     "text": [
      "WARNING:tensorflow:AutoGraph could not transform <function Model.make_predict_function.<locals>.predict_function at 0x000001A45C60B3A8> and will run it as-is.\n",
      "Please report this to the TensorFlow team. When filing the bug, set the verbosity to 10 (on Linux, `export AUTOGRAPH_VERBOSITY=10`) and attach the full output.\n",
      "Cause: 'arguments' object has no attribute 'posonlyargs'\n",
      "To silence this warning, decorate the function with @tf.autograph.experimental.do_not_convert\n",
      "WARNING: AutoGraph could not transform <function Model.make_predict_function.<locals>.predict_function at 0x000001A45C60B3A8> and will run it as-is.\n",
      "Please report this to the TensorFlow team. When filing the bug, set the verbosity to 10 (on Linux, `export AUTOGRAPH_VERBOSITY=10`) and attach the full output.\n",
      "Cause: 'arguments' object has no attribute 'posonlyargs'\n",
      "To silence this warning, decorate the function with @tf.autograph.experimental.do_not_convert\n",
      "1/1 [==============================] - 0s 401ms/step\n",
      "1/1 [==============================] - 0s 41ms/step\n",
      "1/1 [==============================] - 0s 44ms/step\n",
      "1/1 [==============================] - 0s 49ms/step\n",
      "1/1 [==============================] - 0s 46ms/step\n",
      "1/1 [==============================] - 0s 45ms/step\n",
      "1/1 [==============================] - 0s 43ms/step\n",
      "1/1 [==============================] - 0s 49ms/step\n",
      "1/1 [==============================] - 0s 46ms/step\n",
      "1/1 [==============================] - 0s 44ms/step\n",
      "1/1 [==============================] - 0s 42ms/step\n",
      "1/1 [==============================] - 0s 45ms/step\n",
      "1/1 [==============================] - 0s 49ms/step\n",
      "1/1 [==============================] - 0s 46ms/step\n",
      "1/1 [==============================] - 0s 73ms/step\n"
     ]
    }
   ],
   "source": [
    "#make predictions using the linear model\n",
    "preds = []\n",
    "input_vec = train_data[-1:].copy()\n",
    "for _ in range(15):\n",
    "    pred = model.predict(input_vec).flatten()\n",
    "    preds.append(pred[0])\n",
    "    input_vec[0][-1] = pred[0]"
   ]
  },
  {
   "cell_type": "code",
   "execution_count": 162,
   "metadata": {},
   "outputs": [
    {
     "data": {
      "text/plain": [
       "<matplotlib.collections.PathCollection at 0x1a45d8eb8c8>"
      ]
     },
     "execution_count": 162,
     "metadata": {},
     "output_type": "execute_result"
    },
    {
     "data": {
      "image/png": "[encoded data removed]",
      "text/plain": [
       "<Figure size 864x288 with 1 Axes>"
      ]
     },
     "metadata": {
      "needs_background": "light"
     },
     "output_type": "display_data"
    }
   ],
   "source": [
    "plt.figure(figsize=(12,4))\n",
    "plt.plot(sequence)\n",
    "plt.scatter(range(len(sequence)), sequence)\n",
    "plt.scatter(range(len(sequence)+1, len(sequence)+15), preds[1:])"
   ]
  },
  {
   "cell_type": "markdown",
   "metadata": {},
   "source": [
    "---"
   ]
  },
  {
   "cell_type": "markdown",
   "metadata": {},
   "source": [
    "# Application to NLP"
   ]
  },
  {
   "cell_type": "code",
   "execution_count": 163,
   "metadata": {},
   "outputs": [
    {
     "data": {
      "text/plain": [
       "['imdb.vocab', 'imdbEr.txt', 'README', 'test', 'train']"
      ]
     },
     "execution_count": 163,
     "metadata": {},
     "output_type": "execute_result"
    }
   ],
   "source": [
    "url = \"https://ai.stanford.edu/~amaas/data/sentiment/aclImdb_v1.tar.gz\"\n",
    "\n",
    "dataset = tf.keras.utils.get_file(\"aclImdb_v1.tar.gz\", url,\n",
    "                                  untar=True, cache_dir='.',\n",
    "                                  cache_subdir='')\n",
    "\n",
    "dataset_dir = os.path.join(os.path.dirname(dataset), 'aclImdb')\n",
    "os.listdir(dataset_dir)"
   ]
  },
  {
   "cell_type": "code",
   "execution_count": 164,
   "metadata": {},
   "outputs": [
    {
     "data": {
      "text/plain": [
       "['labeledBow.feat',\n",
       " 'neg',\n",
       " 'pos',\n",
       " 'unsup',\n",
       " 'unsupBow.feat',\n",
       " 'urls_neg.txt',\n",
       " 'urls_pos.txt',\n",
       " 'urls_unsup.txt']"
      ]
     },
     "execution_count": 164,
     "metadata": {},
     "output_type": "execute_result"
    }
   ],
   "source": [
    "train_dir = os.path.join(dataset_dir, 'train')\n",
    "os.listdir(train_dir)"
   ]
  },
  {
   "cell_type": "code",
   "execution_count": 165,
   "metadata": {},
   "outputs": [],
   "source": [
    "remove_dir = os.path.join(train_dir, 'unsup')\n",
    "shutil.rmtree(remove_dir)"
   ]
  },
  {
   "cell_type": "code",
   "execution_count": 166,
   "metadata": {},
   "outputs": [
    {
     "name": "stdout",
     "output_type": "stream",
     "text": [
      "Found 25000 files belonging to 2 classes.\n",
      "Using 20000 files for training.\n",
      "Found 25000 files belonging to 2 classes.\n",
      "Using 5000 files for validation.\n"
     ]
    }
   ],
   "source": [
    "batch_size = 1024\n",
    "seed = 123\n",
    "train_ds = tf.keras.utils.text_dataset_from_directory(\n",
    "    'aclImdb/train', batch_size=batch_size, validation_split=0.2,\n",
    "    subset='training', seed=seed)\n",
    "val_ds = tf.keras.utils.text_dataset_from_directory(\n",
    "    'aclImdb/train', batch_size=batch_size, validation_split=0.2,\n",
    "    subset='validation', seed=seed)"
   ]
  },
  {
   "cell_type": "code",
   "execution_count": 167,
   "metadata": {},
   "outputs": [
    {
     "name": "stdout",
     "output_type": "stream",
     "text": [
      "0 b\"Oh My God! Please, for the love of all that is holy, Do Not Watch This Movie! It it 82 minutes of my life I will never get back. Sure, I could have stopped watching half way through. But I thought it might get better. It Didn't. Anyone who actually enjoyed this movie is one seriously sick and twisted individual. No wonder us Australians/New Zealanders have a terrible reputation when it comes to making movies. Everything about this movie is horrible, from the acting to the editing. I don't even normally write reviews on here, but in this case I'll make an exception. I only wish someone had of warned me before I hired this catastrophe\"\n",
      "\n",
      "1 b'This movie is SOOOO funny!!! The acting is WONDERFUL, the Ramones are sexy, the jokes are subtle, and the plot is just what every high schooler dreams of doing to his/her school. I absolutely loved the soundtrack as well as the carefully placed cynicism. If you like monty python, You will love this film. This movie is a tad bit \"grease\"esk (without all the annoying songs). The songs that are sung are likable; you might even find yourself singing these songs once the movie is through. This musical ranks number two in musicals to me (second next to the blues brothers). But please, do not think of it as a musical per say; seeing as how the songs are so likable, it is hard to tell a carefully choreographed scene is taking place. I think of this movie as more of a comedy with undertones of romance. You will be reminded of what it was like to be a rebellious teenager; needless to say, you will be reminiscing of your old high school days after seeing this film. Highly recommended for both the family (since it is a very youthful but also for adults since there are many jokes that are funnier with age and experience.'\n",
      "\n",
      "0 b\"Alex D. Linz replaces Macaulay Culkin as the central figure in the third movie in the Home Alone empire. Four industrial spies acquire a missile guidance system computer chip and smuggle it through an airport inside a remote controlled toy car. Because of baggage confusion, grouchy Mrs. Hess (Marian Seldes) gets the car. She gives it to her neighbor, Alex (Linz), just before the spies turn up. The spies rent a house in order to burglarize each house in the neighborhood until they locate the car. Home alone with the chicken pox, Alex calls 911 each time he spots a theft in progress, but the spies always manage to elude the police while Alex is accused of making prank calls. The spies finally turn their attentions toward Alex, unaware that he has rigged devices to cleverly booby-trap his entire house. Home Alone 3 wasn't horrible, but probably shouldn't have been made, you can't just replace Macauley Culkin, Joe Pesci, or Daniel Stern. Home Alone 3 had some funny parts, but I don't like when characters are changed in a movie series, view at own risk.\"\n",
      "\n",
      "0 b\"There's a good movie lurking here, but this isn't it. The basic idea is good: to explore the moral issues that would face a group of young survivors of the apocalypse. But the logic is so muddled that it's impossible to get involved.<br /><br />For example, our four heroes are (understandably) paranoid about catching the mysterious airborne contagion that's wiped out virtually all of mankind. Yet they wear surgical masks some times, not others. Some times they're fanatical about wiping down with bleach any area touched by an infected person. Other times, they seem completely unconcerned.<br /><br />Worse, after apparently surviving some weeks or months in this new kill-or-be-killed world, these people constantly behave like total newbs. They don't bother accumulating proper equipment, or food. They're forever running out of fuel in the middle of nowhere. They don't take elementary precautions when meeting strangers. And after wading through the rotting corpses of the entire human race, they're as squeamish as sheltered debutantes. You have to constantly wonder how they could have survived this long... and even if they did, why anyone would want to make a movie about them.<br /><br />So when these dweebs stop to agonize over the moral dimensions of their actions, it's impossible to take their soul-searching seriously. Their actions would first have to make some kind of minimal sense.<br /><br />On top of all this, we must contend with the dubious acting abilities of Chris Pine. His portrayal of an arrogant young James T Kirk might have seemed shrewd, when viewed in isolation. But in Carriers he plays on exactly that same note: arrogant and boneheaded. It's impossible not to suspect that this constitutes his entire dramatic range.<br /><br />On the positive side, the film *looks* excellent. It's got an over-sharp, saturated look that really suits the southwestern US locale. But that can't save the truly feeble writing nor the paper-thin (and annoying) characters. Even if you're a fan of the end-of-the-world genre, you should save yourself the agony of watching Carriers.\"\n",
      "\n",
      "0 b'I saw this movie at an actual movie theater (probably the $2.00 one) with my cousin and uncle. We were around 11 and 12, I guess, and really into scary movies. I remember being so excited to see it because my cool uncle let us pick the movie (and we probably never got to do that again!) and sooo disappointed afterwards!! Just boring and not scary. The only redeeming thing I can remember was Corky Pigeon from Silver Spoons, and that wasn\\'t all that great, just someone I recognized. I\\'ve seen bad movies before and this one has always stuck out in my mind as the worst. This was from what I can recall, one of the most boring, non-scary, waste of our collective $6, and a waste of film. I have read some of the reviews that say it is worth a watch and I say, \"Too each his own\", but I wouldn\\'t even bother. Not even so bad it\\'s good.'\n",
      "\n"
     ]
    }
   ],
   "source": [
    "for text_batch, label_batch in train_ds.take(1):\n",
    "    for i in range(5):\n",
    "        print(label_batch[i].numpy(), text_batch.numpy()[i])\n",
    "        print()"
   ]
  },
  {
   "cell_type": "code",
   "execution_count": 168,
   "metadata": {},
   "outputs": [],
   "source": [
    "AUTOTUNE = tf.data.AUTOTUNE\n",
    "\n",
    "train_ds = train_ds.cache().prefetch(buffer_size=AUTOTUNE)\n",
    "val_ds = val_ds.cache().prefetch(buffer_size=AUTOTUNE)"
   ]
  },
  {
   "cell_type": "code",
   "execution_count": 170,
   "metadata": {},
   "outputs": [
    {
     "name": "stdout",
     "output_type": "stream",
     "text": [
      "WARNING:tensorflow:AutoGraph could not transform <function <lambda> at 0x000001A4424C4DC8> and will run it as-is.\n",
      "Please report this to the TensorFlow team. When filing the bug, set the verbosity to 10 (on Linux, `export AUTOGRAPH_VERBOSITY=10`) and attach the full output.\n",
      "Cause: 'arguments' object has no attribute 'posonlyargs'\n",
      "To silence this warning, decorate the function with @tf.autograph.experimental.do_not_convert\n",
      "WARNING: AutoGraph could not transform <function <lambda> at 0x000001A4424C4DC8> and will run it as-is.\n",
      "Please report this to the TensorFlow team. When filing the bug, set the verbosity to 10 (on Linux, `export AUTOGRAPH_VERBOSITY=10`) and attach the full output.\n",
      "Cause: 'arguments' object has no attribute 'posonlyargs'\n",
      "To silence this warning, decorate the function with @tf.autograph.experimental.do_not_convert\n",
      "WARNING:tensorflow:AutoGraph could not transform <function PreprocessingLayer.make_adapt_function.<locals>.adapt_step at 0x000001A446BDE828> and will run it as-is.\n",
      "Please report this to the TensorFlow team. When filing the bug, set the verbosity to 10 (on Linux, `export AUTOGRAPH_VERBOSITY=10`) and attach the full output.\n",
      "Cause: 'arguments' object has no attribute 'posonlyargs'\n",
      "To silence this warning, decorate the function with @tf.autograph.experimental.do_not_convert\n",
      "WARNING: AutoGraph could not transform <function PreprocessingLayer.make_adapt_function.<locals>.adapt_step at 0x000001A446BDE828> and will run it as-is.\n",
      "Please report this to the TensorFlow team. When filing the bug, set the verbosity to 10 (on Linux, `export AUTOGRAPH_VERBOSITY=10`) and attach the full output.\n",
      "Cause: 'arguments' object has no attribute 'posonlyargs'\n",
      "To silence this warning, decorate the function with @tf.autograph.experimental.do_not_convert\n"
     ]
    }
   ],
   "source": [
    "# Create a custom standardization function to strip HTML break tags '<br />'.\n",
    "def custom_standardization(input_data):\n",
    "    lowercase = tf.strings.lower(input_data)\n",
    "    stripped_html = tf.strings.regex_replace(lowercase, '<br />', ' ')\n",
    "    return tf.strings.regex_replace(stripped_html,\n",
    "                                  '[%s]' % re.escape(string.punctuation), '')\n",
    "\n",
    "\n",
    "# Vocabulary size and number of words in a sequence.\n",
    "vocab_size = 10000\n",
    "sequence_length = 100\n",
    "\n",
    "# Use the text vectorization layer to normalize, split, and map strings to\n",
    "# integers. Note that the layer uses the custom standardization defined above.\n",
    "# Set maximum_sequence length as all samples are not of the same length.\n",
    "vectorize_layer = TextVectorization(\n",
    "    standardize=custom_standardization,\n",
    "    max_tokens=vocab_size,\n",
    "    output_mode='int',\n",
    "    output_sequence_length=sequence_length)\n",
    "\n",
    "# Make a text-only dataset (no labels) and call adapt to build the vocabulary.\n",
    "text_ds = train_ds.map(lambda x, y: x)\n",
    "vectorize_layer.adapt(text_ds)"
   ]
  },
  {
   "cell_type": "code",
   "execution_count": 171,
   "metadata": {},
   "outputs": [],
   "source": [
    "embedding_dim=16\n",
    "\n",
    "model = Sequential([\n",
    "    vectorize_layer,\n",
    "    Embedding(vocab_size, embedding_dim, name=\"embedding\"),\n",
    "    SimpleRNN(8),\n",
    "    Dense(1, activation='sigmoid')\n",
    "])"
   ]
  },
  {
   "cell_type": "code",
   "execution_count": 172,
   "metadata": {},
   "outputs": [],
   "source": [
    "model.compile(optimizer='adam',\n",
    "              loss=tf.keras.losses.BinaryCrossentropy(from_logits=True),\n",
    "              metrics=['accuracy'])"
   ]
  },
  {
   "cell_type": "code",
   "execution_count": 173,
   "metadata": {},
   "outputs": [
    {
     "name": "stdout",
     "output_type": "stream",
     "text": [
      "Epoch 1/15\n",
      "WARNING:tensorflow:AutoGraph could not transform <function Model.make_train_function.<locals>.train_function at 0x000001A45C277798> and will run it as-is.\n",
      "Please report this to the TensorFlow team. When filing the bug, set the verbosity to 10 (on Linux, `export AUTOGRAPH_VERBOSITY=10`) and attach the full output.\n",
      "Cause: 'arguments' object has no attribute 'posonlyargs'\n",
      "To silence this warning, decorate the function with @tf.autograph.experimental.do_not_convert\n",
      "WARNING: AutoGraph could not transform <function Model.make_train_function.<locals>.train_function at 0x000001A45C277798> and will run it as-is.\n",
      "Please report this to the TensorFlow team. When filing the bug, set the verbosity to 10 (on Linux, `export AUTOGRAPH_VERBOSITY=10`) and attach the full output.\n",
      "Cause: 'arguments' object has no attribute 'posonlyargs'\n",
      "To silence this warning, decorate the function with @tf.autograph.experimental.do_not_convert\n"
     ]
    },
    {
     "name": "stderr",
     "output_type": "stream",
     "text": [
      "C:\\Users\\ritvik\\Anaconda3\\lib\\site-packages\\keras\\backend.py:5674: UserWarning: \"`binary_crossentropy` received `from_logits=True`, but the `output` argument was produced by a Sigmoid activation and thus does not represent logits. Was this intended?\n",
      "  output, from_logits, \"Sigmoid\", \"binary_crossentropy\"\n"
     ]
    },
    {
     "name": "stdout",
     "output_type": "stream",
     "text": [
      "20/20 [==============================] - ETA: 0s - loss: 0.6916 - accuracy: 0.5292WARNING:tensorflow:AutoGraph could not transform <function Model.make_test_function.<locals>.test_function at 0x000001A45C277CA8> and will run it as-is.\n",
      "Please report this to the TensorFlow team. When filing the bug, set the verbosity to 10 (on Linux, `export AUTOGRAPH_VERBOSITY=10`) and attach the full output.\n",
      "Cause: 'arguments' object has no attribute 'posonlyargs'\n",
      "To silence this warning, decorate the function with @tf.autograph.experimental.do_not_convert\n",
      "WARNING: AutoGraph could not transform <function Model.make_test_function.<locals>.test_function at 0x000001A45C277CA8> and will run it as-is.\n",
      "Please report this to the TensorFlow team. When filing the bug, set the verbosity to 10 (on Linux, `export AUTOGRAPH_VERBOSITY=10`) and attach the full output.\n",
      "Cause: 'arguments' object has no attribute 'posonlyargs'\n",
      "To silence this warning, decorate the function with @tf.autograph.experimental.do_not_convert\n",
      "20/20 [==============================] - 12s 475ms/step - loss: 0.6916 - accuracy: 0.5292 - val_loss: 0.6804 - val_accuracy: 0.6044\n",
      "Epoch 2/15\n",
      "20/20 [==============================] - 6s 307ms/step - loss: 0.6564 - accuracy: 0.6967 - val_loss: 0.6535 - val_accuracy: 0.7092\n",
      "Epoch 3/15\n",
      "20/20 [==============================] - 7s 357ms/step - loss: 0.6090 - accuracy: 0.8019 - val_loss: 0.6255 - val_accuracy: 0.7366\n",
      "Epoch 4/15\n",
      "20/20 [==============================] - 7s 333ms/step - loss: 0.5542 - accuracy: 0.8440 - val_loss: 0.5994 - val_accuracy: 0.7552\n",
      "Epoch 5/15\n",
      "20/20 [==============================] - 7s 340ms/step - loss: 0.4999 - accuracy: 0.8783 - val_loss: 0.5804 - val_accuracy: 0.7650\n",
      "Epoch 6/15\n",
      "20/20 [==============================] - 6s 309ms/step - loss: 0.4521 - accuracy: 0.8960 - val_loss: 0.5721 - val_accuracy: 0.7616\n",
      "Epoch 7/15\n",
      "20/20 [==============================] - 6s 309ms/step - loss: 0.4089 - accuracy: 0.9107 - val_loss: 0.5568 - val_accuracy: 0.7706\n",
      "Epoch 8/15\n",
      "20/20 [==============================] - 6s 316ms/step - loss: 0.3838 - accuracy: 0.9158 - val_loss: 0.5688 - val_accuracy: 0.7410\n",
      "Epoch 9/15\n",
      "20/20 [==============================] - 6s 303ms/step - loss: 0.3676 - accuracy: 0.9156 - val_loss: 0.5417 - val_accuracy: 0.7708\n",
      "Epoch 10/15\n",
      "20/20 [==============================] - 7s 340ms/step - loss: 0.3175 - accuracy: 0.9430 - val_loss: 0.5412 - val_accuracy: 0.7720\n",
      "Epoch 11/15\n",
      "20/20 [==============================] - 6s 328ms/step - loss: 0.2844 - accuracy: 0.9519 - val_loss: 0.5424 - val_accuracy: 0.7692\n",
      "Epoch 12/15\n",
      "20/20 [==============================] - 6s 304ms/step - loss: 0.2631 - accuracy: 0.9568 - val_loss: 0.5464 - val_accuracy: 0.7642\n",
      "Epoch 13/15\n",
      "20/20 [==============================] - 6s 316ms/step - loss: 0.2408 - accuracy: 0.9603 - val_loss: 0.5514 - val_accuracy: 0.7530\n",
      "Epoch 14/15\n",
      "20/20 [==============================] - 6s 315ms/step - loss: 0.2262 - accuracy: 0.9636 - val_loss: 0.5500 - val_accuracy: 0.7576\n",
      "Epoch 15/15\n",
      "20/20 [==============================] - 7s 363ms/step - loss: 0.2105 - accuracy: 0.9664 - val_loss: 0.5569 - val_accuracy: 0.7534\n"
     ]
    },
    {
     "data": {
      "text/plain": [
       "<keras.callbacks.History at 0x1a45d99dc48>"
      ]
     },
     "execution_count": 173,
     "metadata": {},
     "output_type": "execute_result"
    }
   ],
   "source": [
    "model.fit(\n",
    "    train_ds,\n",
    "    validation_data=val_ds,\n",
    "    epochs=15\n",
    ")"
   ]
  },
  {
   "cell_type": "code",
   "execution_count": 174,
   "metadata": {},
   "outputs": [
    {
     "name": "stdout",
     "output_type": "stream",
     "text": [
      "Model: \"sequential_14\"\n",
      "_________________________________________________________________\n",
      " Layer (type)                Output Shape              Param #   \n",
      "=================================================================\n",
      " text_vectorization_2 (TextV  (None, 100)              0         \n",
      " ectorization)                                                   \n",
      "                                                                 \n",
      " embedding (Embedding)       (None, 100, 16)           160000    \n",
      "                                                                 \n",
      " simple_rnn_11 (SimpleRNN)   (None, 8)                 200       \n",
      "                                                                 \n",
      " dense_13 (Dense)            (None, 1)                 9         \n",
      "                                                                 \n",
      "=================================================================\n",
      "Total params: 160,209\n",
      "Trainable params: 160,209\n",
      "Non-trainable params: 0\n",
      "_________________________________________________________________\n"
     ]
    }
   ],
   "source": [
    "model.summary()"
   ]
  },
  {
   "cell_type": "code",
   "execution_count": 176,
   "metadata": {},
   "outputs": [
    {
     "name": "stdout",
     "output_type": "stream",
     "text": [
      "i love this movie\n",
      "WARNING:tensorflow:AutoGraph could not transform <function Model.make_predict_function.<locals>.predict_function at 0x000001A45D986A68> and will run it as-is.\n",
      "Please report this to the TensorFlow team. When filing the bug, set the verbosity to 10 (on Linux, `export AUTOGRAPH_VERBOSITY=10`) and attach the full output.\n",
      "Cause: 'arguments' object has no attribute 'posonlyargs'\n",
      "To silence this warning, decorate the function with @tf.autograph.experimental.do_not_convert\n",
      "WARNING: AutoGraph could not transform <function Model.make_predict_function.<locals>.predict_function at 0x000001A45D986A68> and will run it as-is.\n",
      "Please report this to the TensorFlow team. When filing the bug, set the verbosity to 10 (on Linux, `export AUTOGRAPH_VERBOSITY=10`) and attach the full output.\n",
      "Cause: 'arguments' object has no attribute 'posonlyargs'\n",
      "To silence this warning, decorate the function with @tf.autograph.experimental.do_not_convert\n",
      "0.9089407\n",
      "\n",
      "i hate this movie\n",
      "0.42265436\n",
      "\n",
      "i think this movie was a waste of money\n",
      "0.09697387\n",
      "\n",
      "the acting was really good\n",
      "0.16855498\n",
      "\n",
      "i thought the special effects were good but the plot was pretty bad\n",
      "0.49389336\n",
      "\n",
      "10/10!!! This movie has to be in my top 10 greatest Marvel Studios movie of all time. First, I love how great everyone did in the cast and all who contributed to the film. Kudos to the spectacular actors and actresses and also to the director Mr. Taika Waititi, he really made the Thor series a colorful spectrum of amazing stories. Chris Hemsworth and Natalie Portman acting in their roles is really good but I think it would've been better is Tessa Thompson as Valkyrie has more significant lines. I really think that she's kind of underutilized in this film. Russel Crowe as Zeus is great. He portrayed the character as a kind of antagonistic, selfish, entitled way and it is really good. Christian Bale as Gorr the Godbutcher, one of the best Marvel Comic Villains, I can't even put it on words. His performance is phenomenal!! The movie adaptation of Gorr belongs to my Greatest Marvel Cinematic Universe Villains of all time!!! I also love the soundtrack of this movie especially the Sweet Child O' Mine that symbolizes a part of the plot. So sad that Jane Foster died, I literally cried on that part but she's on Valhalla now so a round of applause for her.  The big reveal of Hercules hinting to be facing Thor in the future got me so excited. Overall, this is a heart pounding and tear jerking film that tells a story about love, sacrifice, and heroism in an spectacularly adventurous way. I LOVE IT SO MUCH. Thank you the people behind this movie because they really did a very great job.\n",
      "0.586483\n",
      "\n",
      "I have watched every marvel movie, loved most of them, this Thor movie very disappointing, like a really bad B grade sci-fi from syfy channel, I don't blame the actors, Hemsworth & Bale are great actors, script writers and director are to blame.\n",
      "0.09250736\n",
      "\n"
     ]
    },
    {
     "ename": "KeyboardInterrupt",
     "evalue": "Interrupted by user",
     "output_type": "error",
     "traceback": [
      "\u001b[1;31m--------------------------------------------------------\u001b[0m",
      "\u001b[1;31mKeyboardInterrupt\u001b[0m      Traceback (most recent call last)",
      "\u001b[1;32m<ipython-input-176-1ef43473c704>\u001b[0m in \u001b[0;36m<module>\u001b[1;34m\u001b[0m\n\u001b[0;32m      1\u001b[0m \u001b[1;32mwhile\u001b[0m \u001b[1;32mTrue\u001b[0m\u001b[1;33m:\u001b[0m\u001b[1;33m\u001b[0m\u001b[1;33m\u001b[0m\u001b[0m\n\u001b[1;32m----> 2\u001b[1;33m     \u001b[0mcurr_input\u001b[0m \u001b[1;33m=\u001b[0m \u001b[0minput\u001b[0m\u001b[1;33m(\u001b[0m\u001b[1;33m)\u001b[0m\u001b[1;33m\u001b[0m\u001b[1;33m\u001b[0m\u001b[0m\n\u001b[0m\u001b[0;32m      3\u001b[0m     \u001b[1;32mif\u001b[0m \u001b[0mcurr_input\u001b[0m \u001b[1;33m==\u001b[0m \u001b[1;34m'quit'\u001b[0m\u001b[1;33m:\u001b[0m\u001b[1;33m\u001b[0m\u001b[1;33m\u001b[0m\u001b[0m\n\u001b[0;32m      4\u001b[0m         \u001b[1;32mbreak\u001b[0m\u001b[1;33m\u001b[0m\u001b[1;33m\u001b[0m\u001b[0m\n\u001b[0;32m      5\u001b[0m     \u001b[0mpred\u001b[0m \u001b[1;33m=\u001b[0m \u001b[0mmodel\u001b[0m\u001b[1;33m.\u001b[0m\u001b[0mpredict\u001b[0m\u001b[1;33m(\u001b[0m\u001b[1;33m[\u001b[0m\u001b[1;33m[\u001b[0m\u001b[0mcurr_input\u001b[0m\u001b[1;33m]\u001b[0m\u001b[1;33m]\u001b[0m\u001b[1;33m,\u001b[0m \u001b[0mverbose\u001b[0m\u001b[1;33m=\u001b[0m\u001b[1;32mFalse\u001b[0m\u001b[1;33m)\u001b[0m\u001b[1;33m[\u001b[0m\u001b[1;36m0\u001b[0m\u001b[1;33m]\u001b[0m\u001b[1;33m[\u001b[0m\u001b[1;36m0\u001b[0m\u001b[1;33m]\u001b[0m\u001b[1;33m\u001b[0m\u001b[1;33m\u001b[0m\u001b[0m\n",
      "\u001b[1;32m~\\Anaconda3\\lib\\site-packages\\ipykernel\\kernelbase.py\u001b[0m in \u001b[0;36mraw_input\u001b[1;34m(self, prompt)\u001b[0m\n\u001b[0;32m    861\u001b[0m             \u001b[0mself\u001b[0m\u001b[1;33m.\u001b[0m\u001b[0m_parent_ident\u001b[0m\u001b[1;33m,\u001b[0m\u001b[1;33m\u001b[0m\u001b[1;33m\u001b[0m\u001b[0m\n\u001b[0;32m    862\u001b[0m             \u001b[0mself\u001b[0m\u001b[1;33m.\u001b[0m\u001b[0m_parent_header\u001b[0m\u001b[1;33m,\u001b[0m\u001b[1;33m\u001b[0m\u001b[1;33m\u001b[0m\u001b[0m\n\u001b[1;32m--> 863\u001b[1;33m             \u001b[0mpassword\u001b[0m\u001b[1;33m=\u001b[0m\u001b[1;32mFalse\u001b[0m\u001b[1;33m,\u001b[0m\u001b[1;33m\u001b[0m\u001b[1;33m\u001b[0m\u001b[0m\n\u001b[0m\u001b[0;32m    864\u001b[0m         )\n\u001b[0;32m    865\u001b[0m \u001b[1;33m\u001b[0m\u001b[0m\n",
      "\u001b[1;32m~\\Anaconda3\\lib\\site-packages\\ipykernel\\kernelbase.py\u001b[0m in \u001b[0;36m_input_request\u001b[1;34m(self, prompt, ident, parent, password)\u001b[0m\n\u001b[0;32m    902\u001b[0m             \u001b[1;32mexcept\u001b[0m \u001b[0mKeyboardInterrupt\u001b[0m\u001b[1;33m:\u001b[0m\u001b[1;33m\u001b[0m\u001b[1;33m\u001b[0m\u001b[0m\n\u001b[0;32m    903\u001b[0m                 \u001b[1;31m# re-raise KeyboardInterrupt, to truncate traceback\u001b[0m\u001b[1;33m\u001b[0m\u001b[1;33m\u001b[0m\u001b[1;33m\u001b[0m\u001b[0m\n\u001b[1;32m--> 904\u001b[1;33m                 \u001b[1;32mraise\u001b[0m \u001b[0mKeyboardInterrupt\u001b[0m\u001b[1;33m(\u001b[0m\u001b[1;34m\"Interrupted by user\"\u001b[0m\u001b[1;33m)\u001b[0m \u001b[1;32mfrom\u001b[0m \u001b[1;32mNone\u001b[0m\u001b[1;33m\u001b[0m\u001b[1;33m\u001b[0m\u001b[0m\n\u001b[0m\u001b[0;32m    905\u001b[0m             \u001b[1;32mexcept\u001b[0m \u001b[0mException\u001b[0m \u001b[1;32mas\u001b[0m \u001b[0me\u001b[0m\u001b[1;33m:\u001b[0m\u001b[1;33m\u001b[0m\u001b[1;33m\u001b[0m\u001b[0m\n\u001b[0;32m    906\u001b[0m                 \u001b[0mself\u001b[0m\u001b[1;33m.\u001b[0m\u001b[0mlog\u001b[0m\u001b[1;33m.\u001b[0m\u001b[0mwarning\u001b[0m\u001b[1;33m(\u001b[0m\u001b[1;34m\"Invalid Message:\"\u001b[0m\u001b[1;33m,\u001b[0m \u001b[0mexc_info\u001b[0m\u001b[1;33m=\u001b[0m\u001b[1;32mTrue\u001b[0m\u001b[1;33m)\u001b[0m\u001b[1;33m\u001b[0m\u001b[1;33m\u001b[0m\u001b[0m\n",
      "\u001b[1;31mKeyboardInterrupt\u001b[0m: Interrupted by user"
     ]
    }
   ],
   "source": [
    "while True:\n",
    "    curr_input = input()\n",
    "    if curr_input == 'quit':\n",
    "        break\n",
    "    pred = model.predict([[curr_input]], verbose=False)[0][0]\n",
    "    print(pred)\n",
    "    print()"
   ]
  }
 ],
 "metadata": {
  "kernelspec": {
   "display_name": "Python 3",
   "language": "python",
   "name": "python3"
  }
 },
 "nbformat": 4,
 "nbformat_minor": 4
}
